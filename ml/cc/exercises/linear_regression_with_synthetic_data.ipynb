{
  "cells": [
    {
      "cell_type": "markdown",
      "metadata": {
        "id": "view-in-github",
        "colab_type": "text"
      },
      "source": [
        "<a href=\"https://colab.research.google.com/github/Korsner/kontr/blob/main/ml/cc/exercises/linear_regression_with_synthetic_data.ipynb\" target=\"_parent\"><img src=\"https://colab.research.google.com/assets/colab-badge.svg\" alt=\"Open In Colab\"/></a>"
      ]
    },
    {
      "cell_type": "code",
      "source": [
        "from ast import If\n",
        "import pandas as pd\n",
        "import numpy as np\n",
        "import matplotlib.pyplot as plt\n",
        "\n",
        "t = pd.read_csv(\"input.csv\", sep=\";\")\n",
        "\n",
        "distance = np.sqrt((t['x'] - 6)**2 + (t['y'] - 1)**2)\n",
        "t['distance'] = distance\n",
        "\n",
        "print()\n",
        "print(t)\n",
        "\n",
        "t_sorted = t.sort_values('distance', ascending=True)\n",
        "\n",
        "print()\n",
        "print(t_sorted)\n",
        "\n",
        "# Строим график\n",
        "plt.scatter(t.iloc[:, 0], t.iloc[:, 1], marker='o', s=50, c=t['class'], cmap='viridis')\n",
        "plt.scatter(6, 1, marker='s', s=100, c='k')\n",
        "plt.text(4.7, 1.3, 'Test point')\n",
        "plt.title('Метод парзеновского окна')\n",
        "plt.show()\n",
        "\n",
        "# Рассчитываем веса.\n",
        "weights = pd.DataFrame({'class': t['class'], 'distance': t['distance']})\n",
        "weights = weights.groupby('class').apply(lambda x: np.exp(-x['distance'] / 0.1).sum())\n",
        "\n",
        "print(weights)"
      ],
      "metadata": {
        "id": "80rcHKZHNo2q"
      },
      "execution_count": null,
      "outputs": []
    }
  ],
  "metadata": {
    "colab": {
      "name": "Linear Regression with Synthetic Data.ipynb",
      "private_outputs": true,
      "provenance": [],
      "include_colab_link": true
    },
    "kernelspec": {
      "display_name": "Python 3",
      "name": "python3"
    }
  },
  "nbformat": 4,
  "nbformat_minor": 0
}