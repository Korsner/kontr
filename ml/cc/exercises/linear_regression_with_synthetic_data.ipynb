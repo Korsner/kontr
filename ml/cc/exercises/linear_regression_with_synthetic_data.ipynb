{
  "cells": [
    {
      "cell_type": "code",
      "source": [
        "from ast import If\n",
        "import pandas as pd\n",
        "import numpy as np\n",
        "import matplotlib.pyplot as plt\n",
        "\n",
        "# Загрузить данные из файла\n",
        "t = pd.read_csv(\"input.csv\", sep=\";\")\n",
        "\n",
        "#print(t)\n",
        "\n",
        "# Рассчитать расстояние для каждой строки входных данных\n",
        "distance = np.sqrt((t['x'] - 6)**2 + (t['y'] - 1)**2)\n",
        "t['distance'] = distance\n",
        "\n",
        "print()\n",
        "print(t)\n",
        "\n",
        "# Отсортировать данные по расстоянию\n",
        "t_sorted = t.sort_values('distance', ascending=True)\n",
        "\n",
        "print()\n",
        "print(t_sorted)\n",
        "\n",
        "# Построить график\n",
        "plt.scatter(t.iloc[:, 0], t.iloc[:, 1], marker='o', s=50, c=t['class'], cmap='viridis')\n",
        "plt.scatter(6, 1, marker='s', s=100, c='k')\n",
        "plt.text(4.7, 1.3, 'Test point')\n",
        "plt.title('Метод парзеновского окна')\n",
        "plt.show()\n",
        "\n",
        "# Рассчитать веса на основе расстояний и классов\n",
        "weights = pd.DataFrame({'class': t['class'], 'distance': t['distance']})\n",
        "weights = weights.groupby('class').apply(lambda x: np.exp(-x['distance'] / 0.1).sum())\n",
        "\n",
        "print(weights)"
      ],
      "metadata": {
        "id": "80rcHKZHNo2q"
      },
      "execution_count": null,
      "outputs": []
    }
  ],
  "metadata": {
    "colab": {
      "name": "Linear Regression with Synthetic Data.ipynb",
      "private_outputs": true,
      "provenance": []
    },
    "kernelspec": {
      "display_name": "Python 3",
      "name": "python3"
    }
  },
  "nbformat": 4,
  "nbformat_minor": 0
}